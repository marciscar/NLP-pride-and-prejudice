{
 "cells": [
  {
   "cell_type": "markdown",
   "id": "dfa108d2-e50a-4f39-9eb9-e05974307ef6",
   "metadata": {},
   "source": [
    "# Pride and prejudice text generation"
   ]
  },
  {
   "cell_type": "markdown",
   "id": "10327d5e-b376-4db6-a8bc-209af42502aa",
   "metadata": {},
   "source": [
    "## Imports and loading the data"
   ]
  },
  {
   "cell_type": "code",
   "execution_count": 1,
   "id": "a56c4278-d7c1-4378-9e3b-a15d1aab041e",
   "metadata": {},
   "outputs": [],
   "source": [
    "import torch\n",
    "from torch import nn\n",
    "import torch.nn.functional as F\n",
    "\n",
    "import numpy as np\n",
    "import matplotlib.pyplot as plt\n",
    "%matplotlib inline"
   ]
  },
  {
   "cell_type": "code",
   "execution_count": 4,
   "id": "0224e1d3-1e93-4fc0-bbab-a6e3a5c67f19",
   "metadata": {},
   "outputs": [],
   "source": [
    "with open('../data/pride_and_prejudice.txt','r',encoding='utf8') as f:\n",
    "    text = f.read()"
   ]
  },
  {
   "cell_type": "code",
   "execution_count": 10,
   "id": "e366b633-e94b-443f-bb4c-e42da435e453",
   "metadata": {},
   "outputs": [
    {
     "data": {
      "text/plain": [
       "'Chapter 1\\n\\n\\nIt is a truth universally acknowledged, that a single man in possession\\nof a good fortune, must be in want of a wife.\\n\\nHowever little known the feelings or views of such a man may be on his\\nfirst entering a neighbourhood, this truth is so well fixed in the minds\\nof the surrounding families, that he is considered the rightful property\\nof some one or other of their daughters.\\n\\n“My dear Mr. Bennet,” said his lady to him one day, “have you heard that\\nNetherfield Park is let at last?”\\n\\nMr. Bennet replied that he had not.\\n\\n“But it is,” returned she; “for Mrs. Long has just been here, and she\\ntold me all about it.”\\n\\nMr. Bennet made no answer.\\n\\n“Do you not want to know who has taken it?” cried his wife impatiently.\\n\\n“_You_ want to tell me, and I have no objection to hearing it.”\\n\\nThis was invitation enough.\\n\\n“Why, my dear, you must know, Mrs. Long says that Netherfield is taken\\nby a young man of large fortune from the north of England; that he came\\ndown on Monday in a chaise and fo'"
      ]
     },
     "execution_count": 10,
     "metadata": {},
     "output_type": "execute_result"
    }
   ],
   "source": [
    "text[:1000]"
   ]
  },
  {
   "cell_type": "code",
   "execution_count": 11,
   "id": "d5ded624-6668-4ce9-953d-856b0954323a",
   "metadata": {},
   "outputs": [
    {
     "name": "stdout",
     "output_type": "stream",
     "text": [
      "Chapter 1\n",
      "\n",
      "\n",
      "It is a truth universally acknowledged, that a single man in possession\n",
      "of a good fortune, must be in want of a wife.\n",
      "\n",
      "However little known the feelings or views of such a man may be on his\n",
      "first entering a neighbourhood, this truth is so well fixed in the minds\n",
      "of the surrounding families, that he is considered the rightful property\n",
      "of some one or other of their daughters.\n",
      "\n",
      "“My dear Mr. Bennet,” said his lady to him one day, “have you heard that\n",
      "Netherfield Park is let at last?”\n",
      "\n",
      "Mr. Bennet replied that he had not.\n",
      "\n",
      "“But it is,” returned she; “for Mrs. Long has just been here, and she\n",
      "told me all about it.”\n",
      "\n",
      "Mr. Bennet made no answer.\n",
      "\n",
      "“Do you not want to know who has taken it?” cried his wife impatiently.\n",
      "\n",
      "“_You_ want to tell me, and I have no objection to hearing it.”\n",
      "\n",
      "This was invitation enough.\n",
      "\n",
      "“Why, my dear, you must know, Mrs. Long says that Netherfield is taken\n",
      "by a young man of large fortune from the north of England; that he came\n",
      "down on Monday in a chaise and fo\n"
     ]
    }
   ],
   "source": [
    "print(text[:1000])"
   ]
  },
  {
   "cell_type": "code",
   "execution_count": 12,
   "id": "b8758aae-1642-496c-98a2-2290cbd23b5a",
   "metadata": {},
   "outputs": [
    {
     "data": {
      "text/plain": [
       "684743"
      ]
     },
     "execution_count": 12,
     "metadata": {},
     "output_type": "execute_result"
    }
   ],
   "source": [
    "len(text)"
   ]
  },
  {
   "cell_type": "markdown",
   "id": "c27bf277-8f40-4507-9f16-bf8b5ccfecd4",
   "metadata": {},
   "source": [
    "## Encode entire text"
   ]
  },
  {
   "cell_type": "markdown",
   "id": "96d350d8-d003-4a2a-b2f6-fc18e057d2b0",
   "metadata": {},
   "source": [
    "We create an encoder and a decoder for each character in the text:"
   ]
  },
  {
   "cell_type": "code",
   "execution_count": 13,
   "id": "e0ba77f7-774a-4453-8fdf-5e4f4542730f",
   "metadata": {},
   "outputs": [],
   "source": [
    "all_characters = set(text)"
   ]
  },
  {
   "cell_type": "code",
   "execution_count": 15,
   "id": "7d477247-bcea-4bb3-945d-8a23deade064",
   "metadata": {},
   "outputs": [],
   "source": [
    "decoder = dict(enumerate(all_characters))"
   ]
  },
  {
   "cell_type": "code",
   "execution_count": 18,
   "id": "59bd2795-535d-416b-8b9e-cc42947d7c05",
   "metadata": {},
   "outputs": [
    {
     "data": {
      "text/plain": [
       "dict_items([(0, 't'), (1, '-'), (2, 'R'), (3, 'p'), (4, 's'), (5, 'Z'), (6, 'T'), (7, 'd'), (8, ';'), (9, 'z'), (10, '7'), (11, 'D'), (12, 'j'), (13, '9'), (14, 'c'), (15, '_'), (16, ' '), (17, 'N'), (18, 'q'), (19, \"'\"), (20, 'b'), (21, '('), (22, 'k'), (23, 'w'), (24, 'M'), (25, 'r'), (26, 'm'), (27, ':'), (28, '4'), (29, '3'), (30, 'L'), (31, 'Y'), (32, 'W'), (33, 'l'), (34, ')'), (35, 'O'), (36, '*'), (37, '5'), (38, '.'), (39, 'v'), (40, 'J'), (41, '1'), (42, 'a'), (43, '!'), (44, '2'), (45, 'B'), (46, 'u'), (47, 'h'), (48, 'e'), (49, '\\n'), (50, 'f'), (51, 'F'), (52, 'P'), (53, '“'), (54, 'H'), (55, 'S'), (56, 'C'), (57, 'i'), (58, 'E'), (59, 'G'), (60, 'I'), (61, 'A'), (62, '8'), (63, '?'), (64, 'y'), (65, '6'), (66, 'U'), (67, '0'), (68, 'g'), (69, 'K'), (70, 'V'), (71, ','), (72, '”'), (73, 'o'), (74, 'x'), (75, 'n')])"
      ]
     },
     "execution_count": 18,
     "metadata": {},
     "output_type": "execute_result"
    }
   ],
   "source": [
    "decoder.items()"
   ]
  },
  {
   "cell_type": "code",
   "execution_count": 19,
   "id": "f09e2d9b-920b-4937-a870-2dacd5437a40",
   "metadata": {},
   "outputs": [],
   "source": [
    "encoder = {char: ind for ind,char in decoder.items()}"
   ]
  },
  {
   "cell_type": "code",
   "execution_count": 23,
   "id": "682e9661-b897-46d9-834a-59818f8caad2",
   "metadata": {},
   "outputs": [
    {
     "data": {
      "text/plain": [
       "array([56, 47, 42,  3,  0, 48, 25, 16, 41, 49, 49, 49, 60,  0, 16, 57,  4,\n",
       "       16, 42, 16,  0, 25, 46,  0, 47, 16, 46, 75, 57, 39, 48, 25,  4, 42,\n",
       "       33, 33, 64, 16, 42, 14, 22, 75, 73, 23, 33, 48,  7, 68, 48,  7, 71,\n",
       "       16,  0, 47, 42,  0, 16, 42, 16,  4, 57, 75, 68, 33, 48, 16, 26, 42,\n",
       "       75, 16, 57, 75, 16,  3, 73,  4,  4, 48,  4,  4, 57, 73, 75, 49, 73,\n",
       "       50, 16, 42, 16, 68, 73, 73,  7, 16, 50, 73, 25,  0, 46, 75])"
      ]
     },
     "execution_count": 23,
     "metadata": {},
     "output_type": "execute_result"
    }
   ],
   "source": [
    "encoded_text = np.array([encoder[char] for char in text])\n",
    "encoded_text[:100]"
   ]
  },
  {
   "cell_type": "code",
   "execution_count": 29,
   "id": "221ebc13-28a1-431a-a43d-e46658a0d654",
   "metadata": {},
   "outputs": [
    {
     "data": {
      "text/plain": [
       "'C'"
      ]
     },
     "execution_count": 29,
     "metadata": {},
     "output_type": "execute_result"
    }
   ],
   "source": [
    "decoder[56]"
   ]
  },
  {
   "cell_type": "markdown",
   "id": "2ef333bd-08d0-468c-b7d2-984965f66c9e",
   "metadata": {},
   "source": [
    "**We one-hot encode our data:**"
   ]
  },
  {
   "cell_type": "code",
   "execution_count": 30,
   "id": "e1e3ad30-7b54-47a4-947d-e211f9a88035",
   "metadata": {},
   "outputs": [],
   "source": [
    "def one_hot_encoder(encoded_text, num_uni_chars):\n",
    "    '''\n",
    "    encoded_text : batch of encoded text\n",
    "    \n",
    "    num_uni_chars = number of unique characters (len(set(text)))\n",
    "    '''\n",
    "    \n",
    "    # METHOD FROM:\n",
    "    # https://stackoverflow.com/questions/29831489/convert-encoded_textay-of-indices-to-1-hot-encoded-numpy-encoded_textay\n",
    "      \n",
    "    # Create a placeholder for zeros.\n",
    "    one_hot = np.zeros((encoded_text.size, num_uni_chars))\n",
    "    \n",
    "    # Convert data type for later use with pytorch\n",
    "    one_hot = one_hot.astype(np.float32)\n",
    "\n",
    "    # Using fancy indexing fill in the 1s at the correct index locations\n",
    "    one_hot[np.arange(one_hot.shape[0]), encoded_text.flatten()] = 1.0\n",
    "    \n",
    "    # Reshape it so it matches the batch shape\n",
    "    one_hot = one_hot.reshape((*encoded_text.shape, num_uni_chars))\n",
    "    \n",
    "    return one_hot"
   ]
  },
  {
   "cell_type": "code",
   "execution_count": 32,
   "id": "5b183e9c-fbd7-4d54-9944-5365fc3880aa",
   "metadata": {},
   "outputs": [],
   "source": [
    "# one_hot_encoder(np.array([1,2,0]),3)"
   ]
  },
  {
   "cell_type": "markdown",
   "id": "6be751f1-0e6c-4c13-aab4-87b8ea37f173",
   "metadata": {},
   "source": [
    "## Create the training batches"
   ]
  },
  {
   "cell_type": "code",
   "execution_count": null,
   "id": "8a00c63f-7a75-42c3-b0f4-6b5f104bdb3c",
   "metadata": {},
   "outputs": [],
   "source": []
  },
  {
   "cell_type": "code",
   "execution_count": null,
   "id": "d99386fe-a102-4c9e-aca0-c572d8525523",
   "metadata": {},
   "outputs": [],
   "source": []
  },
  {
   "cell_type": "code",
   "execution_count": null,
   "id": "3bb266dc-5376-404d-b30e-d33212e6ba74",
   "metadata": {},
   "outputs": [],
   "source": []
  },
  {
   "cell_type": "code",
   "execution_count": null,
   "id": "736fd8d9-49fc-4478-9ceb-9de7ada2c5cd",
   "metadata": {},
   "outputs": [],
   "source": []
  },
  {
   "cell_type": "code",
   "execution_count": null,
   "id": "a4dcf5f5-845a-4cc0-ae9b-5e37498ebccf",
   "metadata": {},
   "outputs": [],
   "source": []
  },
  {
   "cell_type": "code",
   "execution_count": null,
   "id": "1a2f37f6-f9c4-4bb3-8f81-59677c22636b",
   "metadata": {},
   "outputs": [],
   "source": []
  },
  {
   "cell_type": "code",
   "execution_count": null,
   "id": "6cfdf76e-fb2b-4d9f-8186-46ea3db86018",
   "metadata": {},
   "outputs": [],
   "source": []
  },
  {
   "cell_type": "code",
   "execution_count": null,
   "id": "10ece794-3a53-4362-8099-69784df2a0d0",
   "metadata": {},
   "outputs": [],
   "source": []
  }
 ],
 "metadata": {
  "kernelspec": {
   "display_name": "Python 3 (ipykernel)",
   "language": "python",
   "name": "python3"
  },
  "language_info": {
   "codemirror_mode": {
    "name": "ipython",
    "version": 3
   },
   "file_extension": ".py",
   "mimetype": "text/x-python",
   "name": "python",
   "nbconvert_exporter": "python",
   "pygments_lexer": "ipython3",
   "version": "3.11.7"
  }
 },
 "nbformat": 4,
 "nbformat_minor": 5
}
